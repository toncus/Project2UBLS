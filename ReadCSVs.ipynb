{
 "cells": [
  {
   "cell_type": "code",
   "execution_count": 59,
   "metadata": {},
   "outputs": [],
   "source": [
    "import pandas as pd"
   ]
  },
  {
   "cell_type": "code",
   "execution_count": 60,
   "metadata": {},
   "outputs": [],
   "source": [
    "df2012 = pd.read_csv(\"usaJobs2012.csv\").drop(columns=\"Unnamed: 0\")\n",
    "df2013 = pd.read_csv(\"usaJobs2013.csv\").drop(columns=\"Unnamed: 0\")\n",
    "df2014 = pd.read_csv(\"usaJobs2014.csv\").drop(columns=\"Unnamed: 0\")\n",
    "df2015 = pd.read_csv(\"usaJobs2015.csv\").drop(columns=\"Unnamed: 0\")\n",
    "df2016 = pd.read_csv(\"usaJobs2016.csv\").drop(columns=\"Unnamed: 0\")\n",
    "df2017 = pd.read_csv(\"usaJobs2017.csv\").drop(columns=\"Unnamed: 0\")"
   ]
  },
  {
   "cell_type": "code",
   "execution_count": 61,
   "metadata": {},
   "outputs": [],
   "source": [
    "df = pd.concat([df2012,df2013,df2014,df2015,df2016,df2017],ignore_index=True)"
   ]
  },
  {
   "cell_type": "code",
   "execution_count": 62,
   "metadata": {},
   "outputs": [
    {
     "data": {
      "text/html": [
       "<div>\n",
       "<style scoped>\n",
       "    .dataframe tbody tr th:only-of-type {\n",
       "        vertical-align: middle;\n",
       "    }\n",
       "\n",
       "    .dataframe tbody tr th {\n",
       "        vertical-align: top;\n",
       "    }\n",
       "\n",
       "    .dataframe thead th {\n",
       "        text-align: right;\n",
       "    }\n",
       "</style>\n",
       "<table border=\"1\" class=\"dataframe\">\n",
       "  <thead>\n",
       "    <tr style=\"text-align: right;\">\n",
       "      <th></th>\n",
       "      <th>STATE</th>\n",
       "      <th>Major Group</th>\n",
       "      <th>OCC_TITLE</th>\n",
       "      <th>TOT_EMP</th>\n",
       "      <th>year</th>\n",
       "    </tr>\n",
       "  </thead>\n",
       "  <tbody>\n",
       "    <tr>\n",
       "      <th>0</th>\n",
       "      <td>Alabama</td>\n",
       "      <td>Architecture and Engineering Occupations</td>\n",
       "      <td>Aerospace Engineering and Operations Technicians</td>\n",
       "      <td>230</td>\n",
       "      <td>2012</td>\n",
       "    </tr>\n",
       "    <tr>\n",
       "      <th>1</th>\n",
       "      <td>Alabama</td>\n",
       "      <td>Architecture and Engineering Occupations</td>\n",
       "      <td>Aerospace Engineers</td>\n",
       "      <td>3270</td>\n",
       "      <td>2012</td>\n",
       "    </tr>\n",
       "    <tr>\n",
       "      <th>2</th>\n",
       "      <td>Alabama</td>\n",
       "      <td>Architecture and Engineering Occupations</td>\n",
       "      <td>Architects, Except Landscape and Naval</td>\n",
       "      <td>910</td>\n",
       "      <td>2012</td>\n",
       "    </tr>\n",
       "    <tr>\n",
       "      <th>3</th>\n",
       "      <td>Alabama</td>\n",
       "      <td>Architecture and Engineering Occupations</td>\n",
       "      <td>Architectural and Civil Drafters</td>\n",
       "      <td>1170</td>\n",
       "      <td>2012</td>\n",
       "    </tr>\n",
       "    <tr>\n",
       "      <th>4</th>\n",
       "      <td>Alabama</td>\n",
       "      <td>Architecture and Engineering Occupations</td>\n",
       "      <td>Cartographers and Photogrammetrists</td>\n",
       "      <td>520</td>\n",
       "      <td>2012</td>\n",
       "    </tr>\n",
       "  </tbody>\n",
       "</table>\n",
       "</div>"
      ],
      "text/plain": [
       "     STATE                               Major Group  \\\n",
       "0  Alabama  Architecture and Engineering Occupations   \n",
       "1  Alabama  Architecture and Engineering Occupations   \n",
       "2  Alabama  Architecture and Engineering Occupations   \n",
       "3  Alabama  Architecture and Engineering Occupations   \n",
       "4  Alabama  Architecture and Engineering Occupations   \n",
       "\n",
       "                                          OCC_TITLE  TOT_EMP  year  \n",
       "0  Aerospace Engineering and Operations Technicians      230  2012  \n",
       "1                               Aerospace Engineers     3270  2012  \n",
       "2            Architects, Except Landscape and Naval      910  2012  \n",
       "3                  Architectural and Civil Drafters     1170  2012  \n",
       "4               Cartographers and Photogrammetrists      520  2012  "
      ]
     },
     "execution_count": 62,
     "metadata": {},
     "output_type": "execute_result"
    }
   ],
   "source": [
    "df.head()"
   ]
  },
  {
   "cell_type": "code",
   "execution_count": null,
   "metadata": {},
   "outputs": [],
   "source": []
  },
  {
   "cell_type": "code",
   "execution_count": 63,
   "metadata": {},
   "outputs": [],
   "source": [
    "# Dependencies and boilerplate\n",
    "from sqlalchemy import Column, Float, Integer, String, Text\n",
    "from sqlalchemy.ext.declarative import declarative_base\n",
    "\n",
    "Base = declarative_base()\n",
    "\n",
    "class myJson(Base):\n",
    "    __tablename__ = \"jobsDB\"\n",
    "    \n",
    "    id = Column(Integer, primary_key=True)\n",
    "    state = Column(Text)\n",
    "    major_group = Column(Text)\n",
    "    occ_title = Column(Text)\n",
    "    tot_emp = Column(Integer)\n",
    "    year = Column(Integer)\n",
    "    \n",
    "\n",
    "\n",
    "from sqlalchemy import create_engine\n",
    "from sqlalchemy.orm import Session\n",
    "\n",
    "engine = create_engine(\"sqlite:///histJobDB.sqlite\")\n",
    "Base.metadata.create_all(engine)\n",
    "\n",
    "session = Session(bind=engine)"
   ]
  },
  {
   "cell_type": "code",
   "execution_count": 76,
   "metadata": {},
   "outputs": [],
   "source": []
  },
  {
   "cell_type": "code",
   "execution_count": 77,
   "metadata": {},
   "outputs": [],
   "source": []
  },
  {
   "cell_type": "code",
   "execution_count": null,
   "metadata": {},
   "outputs": [],
   "source": []
  },
  {
   "cell_type": "code",
   "execution_count": 71,
   "metadata": {},
   "outputs": [],
   "source": [
    "for entry in data:\n",
    "    print(entry)"
   ]
  },
  {
   "cell_type": "code",
   "execution_count": 79,
   "metadata": {},
   "outputs": [
    {
     "data": {
      "text/plain": [
       "0"
      ]
     },
     "execution_count": 79,
     "metadata": {},
     "output_type": "execute_result"
    }
   ],
   "source": [
    "list(df.index)[0]"
   ]
  },
  {
   "cell_type": "code",
   "execution_count": 80,
   "metadata": {},
   "outputs": [
    {
     "data": {
      "text/plain": [
       "'Alabama'"
      ]
     },
     "execution_count": 80,
     "metadata": {},
     "output_type": "execute_result"
    }
   ],
   "source": [
    "df['STATE'].iloc[0]"
   ]
  },
  {
   "cell_type": "code",
   "execution_count": 104,
   "metadata": {},
   "outputs": [],
   "source": [
    "recordList = []\n",
    "for row in df.itertuples():\n",
    "    recordList.append(myJson(id=row.Index, state=row.STATE, major_group=row._2, occ_title=row.OCC_TITLE, tot_emp=row.TOT_EMP, year=row.year))"
   ]
  },
  {
   "cell_type": "code",
   "execution_count": 107,
   "metadata": {},
   "outputs": [
    {
     "name": "stderr",
     "output_type": "stream",
     "text": [
      "C:\\Users\\Toncus\\Anaconda3\\lib\\site-packages\\sqlalchemy\\orm\\session.py:521: SAWarning: Session's state has been changed on a non-active transaction - this state will be discarded.\n",
      "  \"Session's state has been changed on \"\n"
     ]
    }
   ],
   "source": [
    "session.rollback()"
   ]
  },
  {
   "cell_type": "code",
   "execution_count": 108,
   "metadata": {},
   "outputs": [],
   "source": [
    "session.add_all(recordList)\n",
    "session.commit()"
   ]
  },
  {
   "cell_type": "code",
   "execution_count": 125,
   "metadata": {},
   "outputs": [],
   "source": [
    "data = session.execute(\"select major_group from jobsDB limit 10\")"
   ]
  },
  {
   "cell_type": "code",
   "execution_count": 127,
   "metadata": {},
   "outputs": [],
   "source": [
    "session.close()"
   ]
  },
  {
   "cell_type": "code",
   "execution_count": null,
   "metadata": {},
   "outputs": [],
   "source": []
  }
 ],
 "metadata": {
  "kernelspec": {
   "display_name": "Python 3",
   "language": "python",
   "name": "python3"
  },
  "language_info": {
   "codemirror_mode": {
    "name": "ipython",
    "version": 3
   },
   "file_extension": ".py",
   "mimetype": "text/x-python",
   "name": "python",
   "nbconvert_exporter": "python",
   "pygments_lexer": "ipython3",
   "version": "3.6.4"
  }
 },
 "nbformat": 4,
 "nbformat_minor": 2
}
