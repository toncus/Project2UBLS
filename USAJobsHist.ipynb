{
 "cells": [
  {
   "cell_type": "code",
   "execution_count": 28,
   "metadata": {},
   "outputs": [],
   "source": [
    "import sqlalchemy\n",
    "from sqlalchemy.ext.automap import automap_base\n",
    "from sqlalchemy.orm import Session\n",
    "from sqlalchemy import create_engine\n",
    "from flask import jsonify\n",
    "import json"
   ]
  },
  {
   "cell_type": "code",
   "execution_count": 2,
   "metadata": {},
   "outputs": [],
   "source": [
    "engine = create_engine(\"sqlite:///histJobDB.sqlite\")"
   ]
  },
  {
   "cell_type": "code",
   "execution_count": 3,
   "metadata": {},
   "outputs": [],
   "source": [
    "Base = automap_base()\n",
    "Base.prepare(engine, reflect=True)"
   ]
  },
  {
   "cell_type": "code",
   "execution_count": 4,
   "metadata": {},
   "outputs": [
    {
     "data": {
      "text/plain": [
       "['jobsDB']"
      ]
     },
     "execution_count": 4,
     "metadata": {},
     "output_type": "execute_result"
    }
   ],
   "source": [
    "Base.classes.keys()"
   ]
  },
  {
   "cell_type": "code",
   "execution_count": 5,
   "metadata": {},
   "outputs": [],
   "source": [
    "jobsDB = Base.classes.jobsDB"
   ]
  },
  {
   "cell_type": "code",
   "execution_count": 6,
   "metadata": {},
   "outputs": [],
   "source": [
    "session = Session(engine)"
   ]
  },
  {
   "cell_type": "code",
   "execution_count": 7,
   "metadata": {},
   "outputs": [
    {
     "data": {
      "text/plain": [
       "{'_sa_instance_state': <sqlalchemy.orm.state.InstanceState at 0x103f1c160>,\n",
       " 'id': 0,\n",
       " 'major_group': 'Architecture and Engineering Occupations',\n",
       " 'occ_title': 'Aerospace Engineering and Operations Technicians',\n",
       " 'state': 'Alabama',\n",
       " 'tot_emp': 230,\n",
       " 'year': 2012}"
      ]
     },
     "execution_count": 7,
     "metadata": {},
     "output_type": "execute_result"
    }
   ],
   "source": [
    "first_row = session.query(jobsDB).first()\n",
    "first_row.__dict__"
   ]
  },
  {
   "cell_type": "code",
   "execution_count": 10,
   "metadata": {},
   "outputs": [],
   "source": [
    "data = session.query(jobsDB.year,jobsDB.tot_emp,jobsDB.state).filter(jobsDB.state==\"Texas\",jobsDB.occ_title==\"Aerospace Engineering and Operations Technicians\").all()"
   ]
  },
  {
   "cell_type": "code",
   "execution_count": 11,
   "metadata": {},
   "outputs": [
    {
     "name": "stdout",
     "output_type": "stream",
     "text": [
      "(2012, 960, 'Texas')\n",
      "(2013, 770, 'Texas')\n",
      "(2014, 810, 'Texas')\n",
      "(2015, 900, 'Texas')\n",
      "(2016, 1200, 'Texas')\n",
      "(2017, 1330, 'Texas')\n"
     ]
    }
   ],
   "source": [
    "for row in data:\n",
    "    print(row)"
   ]
  },
  {
   "cell_type": "code",
   "execution_count": 36,
   "metadata": {},
   "outputs": [],
   "source": [
    "jsonitem = [{\"year\":item[0],\"value\":item[1]} for item in data]"
   ]
  },
  {
   "cell_type": "code",
   "execution_count": 33,
   "metadata": {},
   "outputs": [],
   "source": [
    "def huh():\n",
    "    return jsonify(jsonitem)"
   ]
  },
  {
   "cell_type": "code",
   "execution_count": 34,
   "metadata": {},
   "outputs": [],
   "source": [
    "session.close()"
   ]
  },
  {
   "cell_type": "code",
   "execution_count": 35,
   "metadata": {},
   "outputs": [
    {
     "data": {
      "text/plain": [
       "\u001b[0;31mSignature:\u001b[0m \u001b[0mjsonify\u001b[0m\u001b[0;34m(\u001b[0m\u001b[0;34m*\u001b[0m\u001b[0margs\u001b[0m\u001b[0;34m,\u001b[0m \u001b[0;34m**\u001b[0m\u001b[0mkwargs\u001b[0m\u001b[0;34m)\u001b[0m\u001b[0;34m\u001b[0m\u001b[0m\n",
       "\u001b[0;31mDocstring:\u001b[0m\n",
       "This function wraps :func:`dumps` to add a few enhancements that make\n",
       "life easier.  It turns the JSON output into a :class:`~flask.Response`\n",
       "object with the :mimetype:`application/json` mimetype.  For convenience, it\n",
       "also converts multiple arguments into an array or multiple keyword arguments\n",
       "into a dict.  This means that both ``jsonify(1,2,3)`` and\n",
       "``jsonify([1,2,3])`` serialize to ``[1,2,3]``.\n",
       "\n",
       "For clarity, the JSON serialization behavior has the following differences\n",
       "from :func:`dumps`:\n",
       "\n",
       "1. Single argument: Passed straight through to :func:`dumps`.\n",
       "2. Multiple arguments: Converted to an array before being passed to\n",
       "   :func:`dumps`.\n",
       "3. Multiple keyword arguments: Converted to a dict before being passed to\n",
       "   :func:`dumps`.\n",
       "4. Both args and kwargs: Behavior undefined and will throw an exception.\n",
       "\n",
       "Example usage::\n",
       "\n",
       "    from flask import jsonify\n",
       "\n",
       "    @app.route('/_get_current_user')\n",
       "    def get_current_user():\n",
       "        return jsonify(username=g.user.username,\n",
       "                       email=g.user.email,\n",
       "                       id=g.user.id)\n",
       "\n",
       "This will send a JSON response like this to the browser::\n",
       "\n",
       "    {\n",
       "        \"username\": \"admin\",\n",
       "        \"email\": \"admin@localhost\",\n",
       "        \"id\": 42\n",
       "    }\n",
       "\n",
       "\n",
       ".. versionchanged:: 0.11\n",
       "   Added support for serializing top-level arrays. This introduces a\n",
       "   security risk in ancient browsers. See :ref:`json-security` for details.\n",
       "\n",
       "This function's response will be pretty printed if it was not requested\n",
       "with ``X-Requested-With: XMLHttpRequest`` to simplify debugging unless\n",
       "the ``JSONIFY_PRETTYPRINT_REGULAR`` config parameter is set to false.\n",
       "Compressed (not pretty) formatting currently means no indents and no\n",
       "spaces after separators.\n",
       "\n",
       ".. versionadded:: 0.2\n",
       "\u001b[0;31mFile:\u001b[0m      ~/Desktop/RutgersDataScienceBootcamp/python_environments/python3env/lib/python3.6/site-packages/flask/json.py\n",
       "\u001b[0;31mType:\u001b[0m      function\n"
      ]
     },
     "metadata": {},
     "output_type": "display_data"
    }
   ],
   "source": [
    "jsonify?"
   ]
  },
  {
   "cell_type": "code",
   "execution_count": null,
   "metadata": {},
   "outputs": [],
   "source": []
  }
 ],
 "metadata": {
  "kernelspec": {
   "display_name": "Python 3",
   "language": "python",
   "name": "python3"
  },
  "language_info": {
   "codemirror_mode": {
    "name": "ipython",
    "version": 3
   },
   "file_extension": ".py",
   "mimetype": "text/x-python",
   "name": "python",
   "nbconvert_exporter": "python",
   "pygments_lexer": "ipython3",
   "version": "3.6.4"
  }
 },
 "nbformat": 4,
 "nbformat_minor": 2
}
